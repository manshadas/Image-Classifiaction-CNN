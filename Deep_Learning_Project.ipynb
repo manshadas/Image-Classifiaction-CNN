{
  "nbformat": 4,
  "nbformat_minor": 0,
  "metadata": {
    "colab": {
      "name": "Deep Learning Project.ipynb",
      "provenance": []
    },
    "kernelspec": {
      "name": "python3",
      "display_name": "Python 3"
    }
  },
  "cells": [
    {
      "cell_type": "code",
      "metadata": {
        "id": "eKPed_9TmghX"
      },
      "source": [
        "import numpy as np\r\n",
        "import keras\r\n",
        "from keras import backend as K\r\n",
        "from keras.layers import Activation\r\n",
        "from keras.layers.core import Dense, Flatten\r\n",
        "\r\n",
        "from keras.metrics import categorical_crossentropy\r\n",
        "from keras.preprocessing.image import ImageDataGenerator\r\n",
        "from keras.layers.normalization import BatchNormalization\r\n",
        "from keras.layers.convolutional import *\r\n",
        "from matplotlib import pyplot as plt\r\n",
        "from sklearn.metrics import confusion_matrix\r\n",
        "import itertools\r\n",
        "import matplotlib.pyplot as plt\r\n",
        "%matplotlib inline"
      ],
      "execution_count": null,
      "outputs": []
    },
    {
      "cell_type": "code",
      "metadata": {
        "id": "vGIF1G4Nmow9"
      },
      "source": [
        "train_path=\"/content/drive/MyDrive/train\"\r\n",
        "valid_path='/content/drive/MyDrive/valid'\r\n",
        "test_path='/content/drive/MyDrive/test'"
      ],
      "execution_count": null,
      "outputs": []
    },
    {
      "cell_type": "code",
      "metadata": {
        "id": "aaMyfBRmmtpT"
      },
      "source": [
        "from keras.models import Sequential"
      ],
      "execution_count": null,
      "outputs": []
    },
    {
      "cell_type": "markdown",
      "metadata": {
        "id": "aksX5cJth4XY"
      },
      "source": [
        "Imported Dense from keras.layers, to perform the full connection of the neural network."
      ]
    },
    {
      "cell_type": "markdown",
      "metadata": {
        "id": "fCqoZniSiQQx"
      },
      "source": [
        "Importing Flatten to perform flattening step in order to get a single long continuous linear vector."
      ]
    },
    {
      "cell_type": "markdown",
      "metadata": {
        "id": "qh-smwViibW7"
      },
      "source": [
        "Importing Maxpooling function to perform pooling operation, since we need the maximum value pixel from the respective region of interest."
      ]
    },
    {
      "cell_type": "markdown",
      "metadata": {
        "id": "PM7Bg0G5jJje"
      },
      "source": [
        "The term “dropout” refers to dropping out units (both hidden and visible) in a neural network. Simply put, dropout refers to ignoring units (i.e. neurons) during the training phase of certain set of neurons which is chosen at random."
      ]
    },
    {
      "cell_type": "code",
      "metadata": {
        "id": "SafgwFyxmxr1"
      },
      "source": [
        "from keras.layers.core import Flatten, Dense, Dropout\r\n",
        "from keras.layers.convolutional import Convolution2D, MaxPooling2D, ZeroPadding2D"
      ],
      "execution_count": null,
      "outputs": []
    },
    {
      "cell_type": "markdown",
      "metadata": {
        "id": "uekKsNK8gJSn"
      },
      "source": [
        "Before fitting images to the neural network, we need to synthesize the training data i.e. images. We will use keras.preprocessing library for this task to prepare the images in the training set as well as the test set.\r\n",
        "Image augmentation helps us increase the scope of our very limited dataset. Already existing photos can be manipulated via techniques such as shearing, rotation, zooming, flipping etc., to generate new samples and extend our dataset without having to download more images.\r\n",
        "Below, we will define two objects of the ImageDataGenerator class to augment our existing set of images.\r\n",
        "The training dataset will be further augmented with new samples through rescaling, shearing, zooming and horizontal flipping and we will also resize all images to have height and width dimensions of 300."
      ]
    },
    {
      "cell_type": "code",
      "metadata": {
        "colab": {
          "base_uri": "https://localhost:8080/"
        },
        "id": "P56Sngdsm1RA",
        "outputId": "ce5eff67-880a-4e9c-d651-39eff3fcc565"
      },
      "source": [
        "train_batches = ImageDataGenerator(width_shift_range=0.1, height_shift_range=0.1, horizontal_flip=True, vertical_flip=True, rescale=1/255., shear_range=0.1, rotation_range= 30).flow_from_directory(train_path, target_size=(224,224), classes=['Email','Memo','News','Report','Resume'], batch_size=32)\r\n",
        "valid_batches = ImageDataGenerator(width_shift_range=0.1, height_shift_range=0.1, horizontal_flip=True, vertical_flip=True, rescale=1/255., shear_range=0.1, rotation_range= 20).flow_from_directory(valid_path, target_size=(224,224), classes=['Email','Memo','News','Report','Resume'], batch_size=32)\r\n",
        "test_batches = ImageDataGenerator(rescale=1/255.).flow_from_directory(test_path, target_size=(224,224), classes=['Email','Memo','News','Report','Resume'], batch_size=10)"
      ],
      "execution_count": null,
      "outputs": [
        {
          "output_type": "stream",
          "text": [
            "Found 100 images belonging to 5 classes.\n",
            "Found 15 images belonging to 5 classes.\n",
            "Found 10 images belonging to 5 classes.\n"
          ],
          "name": "stdout"
        }
      ]
    },
    {
      "cell_type": "code",
      "metadata": {
        "colab": {
          "base_uri": "https://localhost:8080/"
        },
        "id": "PSxMAOTyBuWC",
        "outputId": "cd5cc356-306b-4a80-e0eb-8b0ad5366bea"
      },
      "source": [
        "from google.colab import drive\n",
        "drive.mount('/content/drive')"
      ],
      "execution_count": null,
      "outputs": [
        {
          "output_type": "stream",
          "text": [
            "Drive already mounted at /content/drive; to attempt to forcibly remount, call drive.mount(\"/content/drive\", force_remount=True).\n"
          ],
          "name": "stdout"
        }
      ]
    },
    {
      "cell_type": "code",
      "metadata": {
        "id": "c447HYQgpfmp"
      },
      "source": [
        "from keras.applications import VGG16\r\n",
        "from keras import layers, models, backend as K"
      ],
      "execution_count": null,
      "outputs": []
    },
    {
      "cell_type": "code",
      "metadata": {
        "id": "Qo-q1RlG3gxc"
      },
      "source": [
        "K.clear_session()\r\n",
        "base_model = VGG16(include_top=False, weights='imagenet',input_shape=(224,224,3))"
      ],
      "execution_count": null,
      "outputs": []
    },
    {
      "cell_type": "code",
      "metadata": {
        "id": "Ua_nd7U1A1u0"
      },
      "source": [
        "for l in base_model.layers:\r\n",
        "  l.trainable = False"
      ],
      "execution_count": null,
      "outputs": []
    },
    {
      "cell_type": "code",
      "metadata": {
        "colab": {
          "base_uri": "https://localhost:8080/"
        },
        "id": "QccdP9UdA34r",
        "outputId": "1650be80-fdf5-4ec3-9173-56a0f72c0081"
      },
      "source": [
        "x = layers.Flatten()(base_model.output)\r\n",
        "x = layers.BatchNormalization()(x)\r\n",
        "x = layers.Dropout(0.6)(x)\r\n",
        "x = layers.Dense(200, activation='relu')(x)\r\n",
        "x = layers.BatchNormalization()(x)\r\n",
        "x = layers.Dropout(0.4)(x)\r\n",
        "x = layers.Dense(100, activation='relu')(x)\r\n",
        "x = layers.BatchNormalization()(x)\r\n",
        "x = layers.Dropout(0.2)(x)\r\n",
        "x = layers.Dense(50, activation='relu')(x)\r\n",
        "out = layers.Dense(5, activation='softmax')(x)\r\n",
        "model_new = models.Model(base_model.input, out)\r\n",
        "model_new.summary()"
      ],
      "execution_count": null,
      "outputs": [
        {
          "output_type": "stream",
          "text": [
            "Model: \"model\"\n",
            "_________________________________________________________________\n",
            "Layer (type)                 Output Shape              Param #   \n",
            "=================================================================\n",
            "input_1 (InputLayer)         [(None, 224, 224, 3)]     0         \n",
            "_________________________________________________________________\n",
            "block1_conv1 (Conv2D)        (None, 224, 224, 64)      1792      \n",
            "_________________________________________________________________\n",
            "block1_conv2 (Conv2D)        (None, 224, 224, 64)      36928     \n",
            "_________________________________________________________________\n",
            "block1_pool (MaxPooling2D)   (None, 112, 112, 64)      0         \n",
            "_________________________________________________________________\n",
            "block2_conv1 (Conv2D)        (None, 112, 112, 128)     73856     \n",
            "_________________________________________________________________\n",
            "block2_conv2 (Conv2D)        (None, 112, 112, 128)     147584    \n",
            "_________________________________________________________________\n",
            "block2_pool (MaxPooling2D)   (None, 56, 56, 128)       0         \n",
            "_________________________________________________________________\n",
            "block3_conv1 (Conv2D)        (None, 56, 56, 256)       295168    \n",
            "_________________________________________________________________\n",
            "block3_conv2 (Conv2D)        (None, 56, 56, 256)       590080    \n",
            "_________________________________________________________________\n",
            "block3_conv3 (Conv2D)        (None, 56, 56, 256)       590080    \n",
            "_________________________________________________________________\n",
            "block3_pool (MaxPooling2D)   (None, 28, 28, 256)       0         \n",
            "_________________________________________________________________\n",
            "block4_conv1 (Conv2D)        (None, 28, 28, 512)       1180160   \n",
            "_________________________________________________________________\n",
            "block4_conv2 (Conv2D)        (None, 28, 28, 512)       2359808   \n",
            "_________________________________________________________________\n",
            "block4_conv3 (Conv2D)        (None, 28, 28, 512)       2359808   \n",
            "_________________________________________________________________\n",
            "block4_pool (MaxPooling2D)   (None, 14, 14, 512)       0         \n",
            "_________________________________________________________________\n",
            "block5_conv1 (Conv2D)        (None, 14, 14, 512)       2359808   \n",
            "_________________________________________________________________\n",
            "block5_conv2 (Conv2D)        (None, 14, 14, 512)       2359808   \n",
            "_________________________________________________________________\n",
            "block5_conv3 (Conv2D)        (None, 14, 14, 512)       2359808   \n",
            "_________________________________________________________________\n",
            "block5_pool (MaxPooling2D)   (None, 7, 7, 512)         0         \n",
            "_________________________________________________________________\n",
            "flatten (Flatten)            (None, 25088)             0         \n",
            "_________________________________________________________________\n",
            "batch_normalization (BatchNo (None, 25088)             100352    \n",
            "_________________________________________________________________\n",
            "dropout (Dropout)            (None, 25088)             0         \n",
            "_________________________________________________________________\n",
            "dense (Dense)                (None, 200)               5017800   \n",
            "_________________________________________________________________\n",
            "batch_normalization_1 (Batch (None, 200)               800       \n",
            "_________________________________________________________________\n",
            "dropout_1 (Dropout)          (None, 200)               0         \n",
            "_________________________________________________________________\n",
            "dense_1 (Dense)              (None, 100)               20100     \n",
            "_________________________________________________________________\n",
            "batch_normalization_2 (Batch (None, 100)               400       \n",
            "_________________________________________________________________\n",
            "dropout_2 (Dropout)          (None, 100)               0         \n",
            "_________________________________________________________________\n",
            "dense_2 (Dense)              (None, 50)                5050      \n",
            "_________________________________________________________________\n",
            "dense_3 (Dense)              (None, 5)                 255       \n",
            "=================================================================\n",
            "Total params: 19,859,445\n",
            "Trainable params: 5,093,981\n",
            "Non-trainable params: 14,765,464\n",
            "_________________________________________________________________\n"
          ],
          "name": "stdout"
        }
      ]
    },
    {
      "cell_type": "markdown",
      "metadata": {
        "id": "uhBDmKOEgMfY"
      },
      "source": [
        "Also called logarithmic loss, log loss or logistic loss. Each predicted class probability is compared to the actual class desired output 0 or 1 and a score/loss is calculated that penalizes the probability based on how far it is form the actual expected value. The penalty is logarithmic in nature yielding a large score for large differences close to 1 and small score for small differences tending to 0.\r\n",
        "Cross-entropy loss is used when adjusting model weights during training. The aim is to minimize the loss, i.e, the smaller the loss the better the model. A perfect model has a cross-entropy loss of 0."
      ]
    },
    {
      "cell_type": "code",
      "metadata": {
        "colab": {
          "base_uri": "https://localhost:8080/"
        },
        "id": "fw6RctBTA9lV",
        "outputId": "495fe4d6-b92d-4ae1-91d1-e07448fe8f1a"
      },
      "source": [
        "model_new.compile(optimizer='rmsprop',loss='categorical_crossentropy', metrics=['acc'])\r\n",
        "hist = model_new.fit_generator(train_batches, steps_per_epoch=3, validation_data=valid_batches, validation_steps=1, epochs=100, verbose=2)"
      ],
      "execution_count": null,
      "outputs": [
        {
          "output_type": "stream",
          "text": [
            "/usr/local/lib/python3.6/dist-packages/tensorflow/python/keras/engine/training.py:1844: UserWarning: `Model.fit_generator` is deprecated and will be removed in a future version. Please use `Model.fit`, which supports generators.\n",
            "  warnings.warn('`Model.fit_generator` is deprecated and '\n"
          ],
          "name": "stderr"
        },
        {
          "output_type": "stream",
          "text": [
            "Epoch 1/100\n",
            "WARNING:tensorflow:9 out of the last 9 calls to <function Model.make_test_function.<locals>.test_function at 0x7f62c6f0c8c8> triggered tf.function retracing. Tracing is expensive and the excessive number of tracings could be due to (1) creating @tf.function repeatedly in a loop, (2) passing tensors with different shapes, (3) passing Python objects instead of tensors. For (1), please define your @tf.function outside of the loop. For (2), @tf.function has experimental_relax_shapes=True option that relaxes argument shapes that can avoid unnecessary retracing. For (3), please refer to https://www.tensorflow.org/guide/function#controlling_retracing and https://www.tensorflow.org/api_docs/python/tf/function for  more details.\n",
            "3/3 - 61s - loss: 0.8330 - acc: 0.6979 - val_loss: 1.7258 - val_acc: 0.4000\n",
            "Epoch 2/100\n",
            "3/3 - 58s - loss: 0.7736 - acc: 0.6979 - val_loss: 1.8509 - val_acc: 0.4000\n",
            "Epoch 3/100\n",
            "3/3 - 45s - loss: 0.6507 - acc: 0.7647 - val_loss: 2.1923 - val_acc: 0.4000\n",
            "Epoch 4/100\n",
            "3/3 - 45s - loss: 0.6949 - acc: 0.7353 - val_loss: 2.1569 - val_acc: 0.4000\n",
            "Epoch 5/100\n",
            "3/3 - 59s - loss: 0.6062 - acc: 0.7812 - val_loss: 2.1134 - val_acc: 0.4000\n",
            "Epoch 6/100\n",
            "3/3 - 45s - loss: 0.8727 - acc: 0.6324 - val_loss: 1.8596 - val_acc: 0.4667\n",
            "Epoch 7/100\n",
            "3/3 - 45s - loss: 0.6954 - acc: 0.7500 - val_loss: 1.9712 - val_acc: 0.4000\n",
            "Epoch 8/100\n",
            "3/3 - 45s - loss: 0.7247 - acc: 0.7647 - val_loss: 1.9938 - val_acc: 0.4000\n",
            "Epoch 9/100\n",
            "3/3 - 45s - loss: 0.5832 - acc: 0.7941 - val_loss: 1.9086 - val_acc: 0.4667\n",
            "Epoch 10/100\n",
            "3/3 - 45s - loss: 0.6798 - acc: 0.7647 - val_loss: 2.1020 - val_acc: 0.3333\n",
            "Epoch 11/100\n",
            "3/3 - 58s - loss: 0.5920 - acc: 0.7500 - val_loss: 2.0532 - val_acc: 0.4000\n",
            "Epoch 12/100\n",
            "3/3 - 45s - loss: 0.6267 - acc: 0.7059 - val_loss: 1.8562 - val_acc: 0.4000\n",
            "Epoch 13/100\n",
            "3/3 - 45s - loss: 0.4675 - acc: 0.8529 - val_loss: 2.0566 - val_acc: 0.4000\n",
            "Epoch 14/100\n",
            "3/3 - 45s - loss: 0.4220 - acc: 0.8529 - val_loss: 1.9500 - val_acc: 0.4000\n",
            "Epoch 15/100\n",
            "3/3 - 58s - loss: 0.5495 - acc: 0.7708 - val_loss: 2.0397 - val_acc: 0.3333\n",
            "Epoch 16/100\n",
            "3/3 - 45s - loss: 0.5143 - acc: 0.8824 - val_loss: 1.8754 - val_acc: 0.4667\n",
            "Epoch 17/100\n",
            "3/3 - 45s - loss: 0.5716 - acc: 0.7647 - val_loss: 1.7839 - val_acc: 0.4000\n",
            "Epoch 18/100\n",
            "3/3 - 45s - loss: 0.4504 - acc: 0.8235 - val_loss: 1.8894 - val_acc: 0.3333\n",
            "Epoch 19/100\n",
            "3/3 - 45s - loss: 0.4868 - acc: 0.8235 - val_loss: 1.7486 - val_acc: 0.4667\n",
            "Epoch 20/100\n",
            "3/3 - 45s - loss: 0.4752 - acc: 0.8235 - val_loss: 1.8995 - val_acc: 0.4000\n",
            "Epoch 21/100\n",
            "3/3 - 58s - loss: 0.4425 - acc: 0.8021 - val_loss: 1.4673 - val_acc: 0.4667\n",
            "Epoch 22/100\n",
            "3/3 - 45s - loss: 0.6613 - acc: 0.7647 - val_loss: 1.5144 - val_acc: 0.5333\n",
            "Epoch 23/100\n",
            "3/3 - 45s - loss: 0.4474 - acc: 0.7941 - val_loss: 1.7334 - val_acc: 0.5333\n",
            "Epoch 24/100\n",
            "3/3 - 45s - loss: 0.3909 - acc: 0.8824 - val_loss: 1.7062 - val_acc: 0.4667\n",
            "Epoch 25/100\n",
            "3/3 - 59s - loss: 0.5167 - acc: 0.8021 - val_loss: 1.8192 - val_acc: 0.4667\n",
            "Epoch 26/100\n",
            "3/3 - 45s - loss: 0.3465 - acc: 0.8824 - val_loss: 1.6977 - val_acc: 0.4667\n",
            "Epoch 27/100\n",
            "3/3 - 59s - loss: 0.3551 - acc: 0.8854 - val_loss: 1.8489 - val_acc: 0.4000\n",
            "Epoch 28/100\n",
            "3/3 - 45s - loss: 0.4288 - acc: 0.8824 - val_loss: 1.5998 - val_acc: 0.4000\n",
            "Epoch 29/100\n",
            "3/3 - 45s - loss: 0.3985 - acc: 0.9118 - val_loss: 1.6104 - val_acc: 0.5333\n",
            "Epoch 30/100\n",
            "3/3 - 45s - loss: 0.5091 - acc: 0.8088 - val_loss: 1.6277 - val_acc: 0.4667\n",
            "Epoch 31/100\n",
            "3/3 - 45s - loss: 0.4899 - acc: 0.7647 - val_loss: 1.8689 - val_acc: 0.4667\n",
            "Epoch 32/100\n",
            "3/3 - 58s - loss: 0.5033 - acc: 0.8646 - val_loss: 1.4392 - val_acc: 0.6000\n",
            "Epoch 33/100\n",
            "3/3 - 45s - loss: 0.3952 - acc: 0.8676 - val_loss: 1.5215 - val_acc: 0.4667\n",
            "Epoch 34/100\n",
            "3/3 - 45s - loss: 0.3678 - acc: 0.8529 - val_loss: 1.5856 - val_acc: 0.5333\n",
            "Epoch 35/100\n",
            "3/3 - 45s - loss: 0.5586 - acc: 0.7794 - val_loss: 1.7984 - val_acc: 0.5333\n",
            "Epoch 36/100\n",
            "3/3 - 45s - loss: 0.4383 - acc: 0.8235 - val_loss: 1.4474 - val_acc: 0.4667\n",
            "Epoch 37/100\n",
            "3/3 - 48s - loss: 0.3523 - acc: 0.8529 - val_loss: 1.5081 - val_acc: 0.4667\n",
            "Epoch 38/100\n",
            "3/3 - 45s - loss: 0.2866 - acc: 0.8824 - val_loss: 1.5086 - val_acc: 0.4000\n",
            "Epoch 39/100\n",
            "3/3 - 45s - loss: 0.3082 - acc: 0.8824 - val_loss: 1.5571 - val_acc: 0.4667\n",
            "Epoch 40/100\n",
            "3/3 - 45s - loss: 0.3098 - acc: 0.8824 - val_loss: 1.2753 - val_acc: 0.5333\n",
            "Epoch 41/100\n",
            "3/3 - 45s - loss: 0.5545 - acc: 0.8235 - val_loss: 1.4555 - val_acc: 0.5333\n",
            "Epoch 42/100\n",
            "3/3 - 45s - loss: 0.2995 - acc: 0.8971 - val_loss: 1.3790 - val_acc: 0.4667\n",
            "Epoch 43/100\n",
            "3/3 - 59s - loss: 0.3664 - acc: 0.8750 - val_loss: 1.1850 - val_acc: 0.6000\n",
            "Epoch 44/100\n",
            "3/3 - 45s - loss: 0.4460 - acc: 0.8676 - val_loss: 1.5210 - val_acc: 0.5333\n",
            "Epoch 45/100\n",
            "3/3 - 45s - loss: 0.5828 - acc: 0.8088 - val_loss: 1.7179 - val_acc: 0.5333\n",
            "Epoch 46/100\n",
            "3/3 - 58s - loss: 0.3792 - acc: 0.8438 - val_loss: 1.4379 - val_acc: 0.6667\n",
            "Epoch 47/100\n",
            "3/3 - 45s - loss: 0.3018 - acc: 0.8971 - val_loss: 1.3287 - val_acc: 0.6667\n",
            "Epoch 48/100\n",
            "3/3 - 58s - loss: 0.3794 - acc: 0.9062 - val_loss: 1.3255 - val_acc: 0.6000\n",
            "Epoch 49/100\n",
            "3/3 - 45s - loss: 0.4175 - acc: 0.8235 - val_loss: 1.4255 - val_acc: 0.5333\n",
            "Epoch 50/100\n",
            "3/3 - 45s - loss: 0.2256 - acc: 0.9412 - val_loss: 1.7871 - val_acc: 0.5333\n",
            "Epoch 51/100\n",
            "3/3 - 45s - loss: 0.2715 - acc: 0.8971 - val_loss: 1.2784 - val_acc: 0.6667\n",
            "Epoch 52/100\n",
            "3/3 - 58s - loss: 0.2547 - acc: 0.8958 - val_loss: 1.7015 - val_acc: 0.5333\n",
            "Epoch 53/100\n",
            "3/3 - 45s - loss: 0.3530 - acc: 0.8824 - val_loss: 1.4793 - val_acc: 0.6000\n",
            "Epoch 54/100\n",
            "3/3 - 45s - loss: 0.3485 - acc: 0.8676 - val_loss: 1.1594 - val_acc: 0.6667\n",
            "Epoch 55/100\n",
            "3/3 - 45s - loss: 0.2859 - acc: 0.8824 - val_loss: 1.3008 - val_acc: 0.7333\n",
            "Epoch 56/100\n",
            "3/3 - 59s - loss: 0.3154 - acc: 0.8646 - val_loss: 1.5651 - val_acc: 0.6000\n",
            "Epoch 57/100\n",
            "3/3 - 45s - loss: 0.5108 - acc: 0.8382 - val_loss: 1.2314 - val_acc: 0.6667\n",
            "Epoch 58/100\n",
            "3/3 - 45s - loss: 0.3534 - acc: 0.8824 - val_loss: 1.5619 - val_acc: 0.5333\n",
            "Epoch 59/100\n",
            "3/3 - 45s - loss: 0.4339 - acc: 0.8676 - val_loss: 1.4190 - val_acc: 0.6667\n",
            "Epoch 60/100\n",
            "3/3 - 58s - loss: 0.3131 - acc: 0.8854 - val_loss: 1.4143 - val_acc: 0.5333\n",
            "Epoch 61/100\n",
            "3/3 - 45s - loss: 0.1991 - acc: 0.9265 - val_loss: 1.5926 - val_acc: 0.6000\n",
            "Epoch 62/100\n",
            "3/3 - 59s - loss: 0.3499 - acc: 0.8646 - val_loss: 1.0720 - val_acc: 0.6000\n",
            "Epoch 63/100\n",
            "3/3 - 45s - loss: 0.2578 - acc: 0.9118 - val_loss: 1.3556 - val_acc: 0.6667\n",
            "Epoch 64/100\n",
            "3/3 - 45s - loss: 0.3203 - acc: 0.8676 - val_loss: 1.2453 - val_acc: 0.6000\n",
            "Epoch 65/100\n",
            "3/3 - 45s - loss: 0.4120 - acc: 0.8676 - val_loss: 1.3227 - val_acc: 0.6667\n",
            "Epoch 66/100\n",
            "3/3 - 45s - loss: 0.3158 - acc: 0.8676 - val_loss: 1.1301 - val_acc: 0.6667\n",
            "Epoch 67/100\n",
            "3/3 - 44s - loss: 0.2389 - acc: 0.9559 - val_loss: 1.3413 - val_acc: 0.6000\n",
            "Epoch 68/100\n",
            "3/3 - 44s - loss: 0.2945 - acc: 0.9118 - val_loss: 1.4642 - val_acc: 0.6000\n",
            "Epoch 69/100\n",
            "3/3 - 45s - loss: 0.3087 - acc: 0.8971 - val_loss: 1.2521 - val_acc: 0.6000\n",
            "Epoch 70/100\n",
            "3/3 - 58s - loss: 0.3308 - acc: 0.8646 - val_loss: 0.9662 - val_acc: 0.7333\n",
            "Epoch 71/100\n",
            "3/3 - 58s - loss: 0.2953 - acc: 0.8854 - val_loss: 1.4667 - val_acc: 0.4667\n",
            "Epoch 72/100\n",
            "3/3 - 44s - loss: 0.2565 - acc: 0.9265 - val_loss: 1.2471 - val_acc: 0.6667\n",
            "Epoch 73/100\n",
            "3/3 - 45s - loss: 0.3284 - acc: 0.8382 - val_loss: 1.4447 - val_acc: 0.6000\n",
            "Epoch 74/100\n",
            "3/3 - 45s - loss: 0.3724 - acc: 0.8529 - val_loss: 1.2013 - val_acc: 0.7333\n",
            "Epoch 75/100\n",
            "3/3 - 59s - loss: 0.2140 - acc: 0.9167 - val_loss: 1.3347 - val_acc: 0.6667\n",
            "Epoch 76/100\n",
            "3/3 - 58s - loss: 0.2796 - acc: 0.8958 - val_loss: 1.2800 - val_acc: 0.6667\n",
            "Epoch 77/100\n",
            "3/3 - 45s - loss: 0.2691 - acc: 0.9118 - val_loss: 1.0291 - val_acc: 0.7333\n",
            "Epoch 78/100\n",
            "3/3 - 45s - loss: 0.2326 - acc: 0.8971 - val_loss: 1.3794 - val_acc: 0.6000\n",
            "Epoch 79/100\n",
            "3/3 - 45s - loss: 0.2310 - acc: 0.9412 - val_loss: 1.3621 - val_acc: 0.5333\n",
            "Epoch 80/100\n",
            "3/3 - 45s - loss: 0.5233 - acc: 0.8235 - val_loss: 1.3137 - val_acc: 0.4667\n",
            "Epoch 81/100\n",
            "3/3 - 45s - loss: 0.2169 - acc: 0.9265 - val_loss: 1.0387 - val_acc: 0.6667\n",
            "Epoch 82/100\n",
            "3/3 - 45s - loss: 0.2791 - acc: 0.8971 - val_loss: 1.0295 - val_acc: 0.6667\n",
            "Epoch 83/100\n",
            "3/3 - 45s - loss: 0.3181 - acc: 0.8824 - val_loss: 1.0244 - val_acc: 0.6000\n",
            "Epoch 84/100\n",
            "3/3 - 45s - loss: 0.3358 - acc: 0.8971 - val_loss: 1.4850 - val_acc: 0.4000\n",
            "Epoch 85/100\n",
            "3/3 - 62s - loss: 0.2175 - acc: 0.9271 - val_loss: 1.4154 - val_acc: 0.6000\n",
            "Epoch 86/100\n",
            "3/3 - 45s - loss: 0.3227 - acc: 0.8529 - val_loss: 1.3534 - val_acc: 0.6000\n",
            "Epoch 87/100\n",
            "3/3 - 45s - loss: 0.1951 - acc: 0.9412 - val_loss: 1.3217 - val_acc: 0.6000\n",
            "Epoch 88/100\n",
            "3/3 - 45s - loss: 0.4531 - acc: 0.8529 - val_loss: 1.5152 - val_acc: 0.5333\n",
            "Epoch 89/100\n",
            "3/3 - 45s - loss: 0.2231 - acc: 0.9412 - val_loss: 1.2868 - val_acc: 0.4000\n",
            "Epoch 90/100\n",
            "3/3 - 58s - loss: 0.2718 - acc: 0.9271 - val_loss: 1.1870 - val_acc: 0.6000\n",
            "Epoch 91/100\n",
            "3/3 - 58s - loss: 0.3536 - acc: 0.9062 - val_loss: 1.3306 - val_acc: 0.6000\n",
            "Epoch 92/100\n",
            "3/3 - 45s - loss: 0.3543 - acc: 0.8971 - val_loss: 1.0291 - val_acc: 0.6667\n",
            "Epoch 93/100\n",
            "3/3 - 45s - loss: 0.2774 - acc: 0.9265 - val_loss: 0.9070 - val_acc: 0.7333\n",
            "Epoch 94/100\n",
            "3/3 - 45s - loss: 0.4448 - acc: 0.8382 - val_loss: 1.1159 - val_acc: 0.6667\n",
            "Epoch 95/100\n",
            "3/3 - 45s - loss: 0.2254 - acc: 0.9412 - val_loss: 1.2131 - val_acc: 0.5333\n",
            "Epoch 96/100\n",
            "3/3 - 45s - loss: 0.1841 - acc: 0.9265 - val_loss: 1.2749 - val_acc: 0.4000\n",
            "Epoch 97/100\n",
            "3/3 - 58s - loss: 0.2704 - acc: 0.9062 - val_loss: 1.4984 - val_acc: 0.5333\n",
            "Epoch 98/100\n",
            "3/3 - 44s - loss: 0.3072 - acc: 0.8971 - val_loss: 0.9614 - val_acc: 0.6667\n",
            "Epoch 99/100\n",
            "3/3 - 58s - loss: 0.1415 - acc: 0.9688 - val_loss: 1.5449 - val_acc: 0.5333\n",
            "Epoch 100/100\n",
            "3/3 - 45s - loss: 0.3527 - acc: 0.9118 - val_loss: 1.2273 - val_acc: 0.7333\n"
          ],
          "name": "stdout"
        }
      ]
    },
    {
      "cell_type": "code",
      "metadata": {
        "colab": {
          "base_uri": "https://localhost:8080/"
        },
        "id": "kUHEYEj1BDlY",
        "outputId": "f899f988-74ec-42dc-c0b2-98e994761c97"
      },
      "source": [
        "import numpy as np\r\n",
        "test_imgs, test_labels = next(test_batches)\r\n",
        "print(test_labels)\r\n",
        "y_test= [ np.where(r==1)[0][0] for r in test_labels ]\r\n",
        "y_test"
      ],
      "execution_count": null,
      "outputs": [
        {
          "output_type": "stream",
          "text": [
            "[[0. 0. 0. 1. 0.]\n",
            " [0. 1. 0. 0. 0.]\n",
            " [0. 0. 0. 0. 1.]\n",
            " [0. 0. 0. 0. 1.]\n",
            " [0. 1. 0. 0. 0.]\n",
            " [0. 0. 0. 1. 0.]\n",
            " [1. 0. 0. 0. 0.]\n",
            " [1. 0. 0. 0. 0.]\n",
            " [0. 0. 1. 0. 0.]\n",
            " [0. 0. 1. 0. 0.]]\n"
          ],
          "name": "stdout"
        },
        {
          "output_type": "execute_result",
          "data": {
            "text/plain": [
              "[3, 1, 4, 4, 1, 3, 0, 0, 2, 2]"
            ]
          },
          "metadata": {
            "tags": []
          },
          "execution_count": 67
        }
      ]
    },
    {
      "cell_type": "code",
      "metadata": {
        "colab": {
          "base_uri": "https://localhost:8080/"
        },
        "id": "kmZ6QXI3DOB5",
        "outputId": "71c2c72f-a565-4455-be07-5828bf968e71"
      },
      "source": [
        "p = model_new.predict(test_imgs)"
      ],
      "execution_count": null,
      "outputs": [
        {
          "output_type": "stream",
          "text": [
            "WARNING:tensorflow:6 out of the last 8 calls to <function Model.make_predict_function.<locals>.predict_function at 0x7f62d3f0bbf8> triggered tf.function retracing. Tracing is expensive and the excessive number of tracings could be due to (1) creating @tf.function repeatedly in a loop, (2) passing tensors with different shapes, (3) passing Python objects instead of tensors. For (1), please define your @tf.function outside of the loop. For (2), @tf.function has experimental_relax_shapes=True option that relaxes argument shapes that can avoid unnecessary retracing. For (3), please refer to https://www.tensorflow.org/guide/function#controlling_retracing and https://www.tensorflow.org/api_docs/python/tf/function for  more details.\n"
          ],
          "name": "stdout"
        }
      ]
    },
    {
      "cell_type": "code",
      "metadata": {
        "colab": {
          "base_uri": "https://localhost:8080/"
        },
        "id": "UstV5_gyDSf6",
        "outputId": "a92f8e53-4999-4751-f37a-d308f29fa3bc"
      },
      "source": [
        "p.argmax(axis=1)"
      ],
      "execution_count": null,
      "outputs": [
        {
          "output_type": "execute_result",
          "data": {
            "text/plain": [
              "array([1, 1, 1, 4, 1, 1, 1, 2, 2, 2])"
            ]
          },
          "metadata": {
            "tags": []
          },
          "execution_count": 69
        }
      ]
    },
    {
      "cell_type": "code",
      "metadata": {
        "colab": {
          "base_uri": "https://localhost:8080/"
        },
        "id": "smRZVQLxDb18",
        "outputId": "a12b1347-4a1a-4694-b030-8e6e8205c5a0"
      },
      "source": [
        "sum(p.argmax(axis=1) == y_test)/10*100"
      ],
      "execution_count": null,
      "outputs": [
        {
          "output_type": "execute_result",
          "data": {
            "text/plain": [
              "50.0"
            ]
          },
          "metadata": {
            "tags": []
          },
          "execution_count": 70
        }
      ]
    },
    {
      "cell_type": "code",
      "metadata": {
        "id": "vVqXUYnQDckE"
      },
      "source": [
        ""
      ],
      "execution_count": null,
      "outputs": []
    }
  ]
}